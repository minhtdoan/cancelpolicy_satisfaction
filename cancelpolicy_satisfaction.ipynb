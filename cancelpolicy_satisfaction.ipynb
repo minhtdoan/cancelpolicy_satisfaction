{
 "cells": [
  {
   "cell_type": "markdown",
   "id": "6208d4a2-dab5-475e-a70f-7b67a6c7ec5a",
   "metadata": {},
   "source": [
    "##### PROJECT: Does Flexible Cancellation Policy Improve Customer Satisfaction?\n",
    "\n",
    "**Goal:** Estimate the causal effect of flexible cancellation policies on customer satisfaction.  \n",
    "**Methods:** Propensity Score Matching (PSM), Inverse Probability Weighting (IPW)\n",
    "\n",
    "Data size: 79.5MB\n",
    "Rows: 983,114\n",
    "Columns: 11"
   ]
  },
  {
   "cell_type": "code",
   "execution_count": 1,
   "id": "ffd85a27-ba7a-4eb3-8d10-bc8b5f51c850",
   "metadata": {},
   "outputs": [
    {
     "name": "stdout",
     "output_type": "stream",
     "text": [
      "Jupyter is ready!\n"
     ]
    }
   ],
   "source": [
    "import pandas as pd\n",
    "import numpy as np\n",
    "\n",
    "print(\"Jupyter is ready!\")"
   ]
  },
  {
   "cell_type": "code",
   "execution_count": 2,
   "id": "5b67e7ba-184b-4b41-932f-5d0b0497579e",
   "metadata": {},
   "outputs": [
    {
     "data": {
      "text/html": [
       "<div>\n",
       "<style scoped>\n",
       "    .dataframe tbody tr th:only-of-type {\n",
       "        vertical-align: middle;\n",
       "    }\n",
       "\n",
       "    .dataframe tbody tr th {\n",
       "        vertical-align: top;\n",
       "    }\n",
       "\n",
       "    .dataframe thead th {\n",
       "        text-align: right;\n",
       "    }\n",
       "</style>\n",
       "<table border=\"1\" class=\"dataframe\">\n",
       "  <thead>\n",
       "    <tr style=\"text-align: right;\">\n",
       "      <th></th>\n",
       "      <th>BOOKING_PROCESS_ID</th>\n",
       "      <th>BOOKING_DATE</th>\n",
       "      <th>STAY_DURATION</th>\n",
       "      <th>TRIP_TYPE</th>\n",
       "      <th>LEAD_TIME</th>\n",
       "      <th>TOTAL_SPEND</th>\n",
       "      <th>BOOKING_RATE_TYPE</th>\n",
       "      <th>ROOM_TYPE</th>\n",
       "      <th>HOTEL_ROOM_CATEGORY</th>\n",
       "      <th>SATISFACTION_SCORE</th>\n",
       "      <th>FLEXIBLE_POLICY</th>\n",
       "    </tr>\n",
       "  </thead>\n",
       "  <tbody>\n",
       "    <tr>\n",
       "      <th>0</th>\n",
       "      <td>147725814</td>\n",
       "      <td>2021-09-28</td>\n",
       "      <td>2</td>\n",
       "      <td>1</td>\n",
       "      <td>21</td>\n",
       "      <td>166.000</td>\n",
       "      <td>Negotiated Rate</td>\n",
       "      <td>1</td>\n",
       "      <td>Standard</td>\n",
       "      <td>9.400000</td>\n",
       "      <td>1</td>\n",
       "    </tr>\n",
       "    <tr>\n",
       "      <th>1</th>\n",
       "      <td>150650477</td>\n",
       "      <td>2022-03-04</td>\n",
       "      <td>6</td>\n",
       "      <td>1</td>\n",
       "      <td>23</td>\n",
       "      <td>405.122</td>\n",
       "      <td>Negotiated Rate</td>\n",
       "      <td>1</td>\n",
       "      <td>Standard</td>\n",
       "      <td>8.909091</td>\n",
       "      <td>1</td>\n",
       "    </tr>\n",
       "    <tr>\n",
       "      <th>2</th>\n",
       "      <td>161885285</td>\n",
       "      <td>2023-04-27</td>\n",
       "      <td>3</td>\n",
       "      <td>1</td>\n",
       "      <td>14</td>\n",
       "      <td>269.670</td>\n",
       "      <td>Negotiated Rate</td>\n",
       "      <td>1</td>\n",
       "      <td>Standard</td>\n",
       "      <td>9.750000</td>\n",
       "      <td>1</td>\n",
       "    </tr>\n",
       "    <tr>\n",
       "      <th>3</th>\n",
       "      <td>139307614</td>\n",
       "      <td>2020-02-24</td>\n",
       "      <td>3</td>\n",
       "      <td>1</td>\n",
       "      <td>1</td>\n",
       "      <td>225.000</td>\n",
       "      <td>Negotiated Rate</td>\n",
       "      <td>1</td>\n",
       "      <td>Standard</td>\n",
       "      <td>9.888889</td>\n",
       "      <td>1</td>\n",
       "    </tr>\n",
       "    <tr>\n",
       "      <th>4</th>\n",
       "      <td>165833561</td>\n",
       "      <td>2023-08-24</td>\n",
       "      <td>1</td>\n",
       "      <td>1</td>\n",
       "      <td>12</td>\n",
       "      <td>93.000</td>\n",
       "      <td>Negotiated Rate</td>\n",
       "      <td>1</td>\n",
       "      <td>Standard</td>\n",
       "      <td>8.727273</td>\n",
       "      <td>1</td>\n",
       "    </tr>\n",
       "  </tbody>\n",
       "</table>\n",
       "</div>"
      ],
      "text/plain": [
       "   BOOKING_PROCESS_ID BOOKING_DATE  STAY_DURATION  TRIP_TYPE  LEAD_TIME  \\\n",
       "0           147725814   2021-09-28              2          1         21   \n",
       "1           150650477   2022-03-04              6          1         23   \n",
       "2           161885285   2023-04-27              3          1         14   \n",
       "3           139307614   2020-02-24              3          1          1   \n",
       "4           165833561   2023-08-24              1          1         12   \n",
       "\n",
       "   TOTAL_SPEND BOOKING_RATE_TYPE  ROOM_TYPE HOTEL_ROOM_CATEGORY  \\\n",
       "0      166.000   Negotiated Rate          1            Standard   \n",
       "1      405.122   Negotiated Rate          1            Standard   \n",
       "2      269.670   Negotiated Rate          1            Standard   \n",
       "3      225.000   Negotiated Rate          1            Standard   \n",
       "4       93.000   Negotiated Rate          1            Standard   \n",
       "\n",
       "   SATISFACTION_SCORE  FLEXIBLE_POLICY  \n",
       "0            9.400000                1  \n",
       "1            8.909091                1  \n",
       "2            9.750000                1  \n",
       "3            9.888889                1  \n",
       "4            8.727273                1  "
      ]
     },
     "execution_count": 2,
     "metadata": {},
     "output_type": "execute_result"
    }
   ],
   "source": [
    "# Load a CSV file (replace with your file path)\n",
    "df = pd.read_csv('raw_cancelpolicy_satisfaction.csv')\n",
    "\n",
    "# Take a quick look at the data\n",
    "df.head()"
   ]
  },
  {
   "cell_type": "code",
   "execution_count": 3,
   "id": "3b70bc4b-35d1-461e-b999-c86b0c7f679d",
   "metadata": {},
   "outputs": [
    {
     "data": {
      "text/html": [
       "<div>\n",
       "<style scoped>\n",
       "    .dataframe tbody tr th:only-of-type {\n",
       "        vertical-align: middle;\n",
       "    }\n",
       "\n",
       "    .dataframe tbody tr th {\n",
       "        vertical-align: top;\n",
       "    }\n",
       "\n",
       "    .dataframe thead th {\n",
       "        text-align: right;\n",
       "    }\n",
       "</style>\n",
       "<table border=\"1\" class=\"dataframe\">\n",
       "  <thead>\n",
       "    <tr style=\"text-align: right;\">\n",
       "      <th></th>\n",
       "      <th>BOOKING_PROCESS_ID</th>\n",
       "      <th>STAY_DURATION</th>\n",
       "      <th>TRIP_TYPE</th>\n",
       "      <th>LEAD_TIME</th>\n",
       "      <th>TOTAL_SPEND</th>\n",
       "      <th>ROOM_TYPE</th>\n",
       "      <th>SATISFACTION_SCORE</th>\n",
       "      <th>FLEXIBLE_POLICY</th>\n",
       "    </tr>\n",
       "  </thead>\n",
       "  <tbody>\n",
       "    <tr>\n",
       "      <th>count</th>\n",
       "      <td>9.831140e+05</td>\n",
       "      <td>983114.000000</td>\n",
       "      <td>983114.000000</td>\n",
       "      <td>983114.000000</td>\n",
       "      <td>983114.000000</td>\n",
       "      <td>983114.000000</td>\n",
       "      <td>983114.000000</td>\n",
       "      <td>983114.000000</td>\n",
       "    </tr>\n",
       "    <tr>\n",
       "      <th>mean</th>\n",
       "      <td>1.561204e+08</td>\n",
       "      <td>2.101963</td>\n",
       "      <td>0.271501</td>\n",
       "      <td>25.325280</td>\n",
       "      <td>223.672006</td>\n",
       "      <td>1.384636</td>\n",
       "      <td>8.206369</td>\n",
       "      <td>0.032174</td>\n",
       "    </tr>\n",
       "    <tr>\n",
       "      <th>std</th>\n",
       "      <td>1.198902e+07</td>\n",
       "      <td>2.348751</td>\n",
       "      <td>0.482617</td>\n",
       "      <td>43.390808</td>\n",
       "      <td>315.192566</td>\n",
       "      <td>0.491094</td>\n",
       "      <td>1.594612</td>\n",
       "      <td>0.176463</td>\n",
       "    </tr>\n",
       "    <tr>\n",
       "      <th>min</th>\n",
       "      <td>1.369028e+08</td>\n",
       "      <td>1.000000</td>\n",
       "      <td>0.000000</td>\n",
       "      <td>-1.000000</td>\n",
       "      <td>0.000000</td>\n",
       "      <td>1.000000</td>\n",
       "      <td>0.000000</td>\n",
       "      <td>0.000000</td>\n",
       "    </tr>\n",
       "    <tr>\n",
       "      <th>25%</th>\n",
       "      <td>1.459230e+08</td>\n",
       "      <td>1.000000</td>\n",
       "      <td>0.000000</td>\n",
       "      <td>3.000000</td>\n",
       "      <td>85.100000</td>\n",
       "      <td>1.000000</td>\n",
       "      <td>7.636364</td>\n",
       "      <td>0.000000</td>\n",
       "    </tr>\n",
       "    <tr>\n",
       "      <th>50%</th>\n",
       "      <td>1.542075e+08</td>\n",
       "      <td>1.000000</td>\n",
       "      <td>0.000000</td>\n",
       "      <td>9.000000</td>\n",
       "      <td>132.000000</td>\n",
       "      <td>1.000000</td>\n",
       "      <td>8.600000</td>\n",
       "      <td>0.000000</td>\n",
       "    </tr>\n",
       "    <tr>\n",
       "      <th>75%</th>\n",
       "      <td>1.670293e+08</td>\n",
       "      <td>2.000000</td>\n",
       "      <td>1.000000</td>\n",
       "      <td>28.000000</td>\n",
       "      <td>256.500000</td>\n",
       "      <td>2.000000</td>\n",
       "      <td>9.300000</td>\n",
       "      <td>0.000000</td>\n",
       "    </tr>\n",
       "    <tr>\n",
       "      <th>max</th>\n",
       "      <td>1.795545e+08</td>\n",
       "      <td>99.000000</td>\n",
       "      <td>2.000000</td>\n",
       "      <td>1168.000000</td>\n",
       "      <td>64000.000000</td>\n",
       "      <td>4.000000</td>\n",
       "      <td>10.000000</td>\n",
       "      <td>1.000000</td>\n",
       "    </tr>\n",
       "  </tbody>\n",
       "</table>\n",
       "</div>"
      ],
      "text/plain": [
       "       BOOKING_PROCESS_ID  STAY_DURATION      TRIP_TYPE      LEAD_TIME  \\\n",
       "count        9.831140e+05  983114.000000  983114.000000  983114.000000   \n",
       "mean         1.561204e+08       2.101963       0.271501      25.325280   \n",
       "std          1.198902e+07       2.348751       0.482617      43.390808   \n",
       "min          1.369028e+08       1.000000       0.000000      -1.000000   \n",
       "25%          1.459230e+08       1.000000       0.000000       3.000000   \n",
       "50%          1.542075e+08       1.000000       0.000000       9.000000   \n",
       "75%          1.670293e+08       2.000000       1.000000      28.000000   \n",
       "max          1.795545e+08      99.000000       2.000000    1168.000000   \n",
       "\n",
       "         TOTAL_SPEND      ROOM_TYPE  SATISFACTION_SCORE  FLEXIBLE_POLICY  \n",
       "count  983114.000000  983114.000000       983114.000000    983114.000000  \n",
       "mean      223.672006       1.384636            8.206369         0.032174  \n",
       "std       315.192566       0.491094            1.594612         0.176463  \n",
       "min         0.000000       1.000000            0.000000         0.000000  \n",
       "25%        85.100000       1.000000            7.636364         0.000000  \n",
       "50%       132.000000       1.000000            8.600000         0.000000  \n",
       "75%       256.500000       2.000000            9.300000         0.000000  \n",
       "max     64000.000000       4.000000           10.000000         1.000000  "
      ]
     },
     "execution_count": 3,
     "metadata": {},
     "output_type": "execute_result"
    }
   ],
   "source": [
    "# Check for missing values\n",
    "df.isnull().sum()\n",
    "\n",
    "# Summarize the data\n",
    "df.describe()"
   ]
  },
  {
   "cell_type": "code",
   "execution_count": 4,
   "id": "39d243c8-4f9e-4fa9-ae6e-ac51d4f59376",
   "metadata": {},
   "outputs": [
    {
     "data": {
      "image/png": "[encoded data removed]",
      "text/plain": [
       "<Figure size 640x480 with 1 Axes>"
      ]
     },
     "metadata": {},
     "output_type": "display_data"
    }
   ],
   "source": [
    "# Visualise relationship between satisfaction_score and flexible_policy\n",
    "import seaborn as sns\n",
    "import matplotlib.pyplot as plt\n",
    "\n",
    "sns.boxplot(data=df, x='FLEXIBLE_POLICY', y='SATISFACTION_SCORE')\n",
    "plt.title('Satisfaction Score by Cancellation Policy')\n",
    "plt.show()\n"
   ]
  },
  {
   "cell_type": "markdown",
   "id": "b63bb085-4d48-41f6-b627-4f9bdbfff123",
   "metadata": {},
   "source": [
    "A quick glance tells us that having flexible cancellation policies does not influence traveller satisfaction, without considering confounders."
   ]
  },
  {
   "cell_type": "markdown",
   "id": "8a94d34a-9d53-4a2a-9029-c694f67a2266",
   "metadata": {},
   "source": [
    "#### Check for potential confounders - understand what could bias results. Examples:\n",
    "- Do customers with longer stays choose flexible policies more often?\n",
    "- Are higher-paying customers more likely to choose flexible policies?"
   ]
  },
  {
   "cell_type": "code",
   "execution_count": 5,
   "id": "c2286364-8e63-4107-8d63-e51d25e35caf",
   "metadata": {},
   "outputs": [
    {
     "data": {
      "image/png": "[encoded data removed]",
      "text/plain": [
       "<Figure size 640x480 with 1 Axes>"
      ]
     },
     "metadata": {},
     "output_type": "display_data"
    }
   ],
   "source": [
    "#Lead time:\n",
    "#sns.scatterplot(x='LEAD_TIME', y='SATISFACTION_SCORE', hue='FLEXIBLE_POLICY', data=df)\n",
    "#plt.show();\n",
    "\n",
    "#Trip type (business/leisure)\n",
    "#sns.scatterplot(x='TRIP_TYPE', y='SATISFACTION_SCORE', hue='FLEXIBLE_POLICY', data=df)\n",
    "#plt.show();\n",
    "\n",
    "#Booking rate type:\n",
    "#sns.scatterplot(x='BOOKING_RATE_TYPE', y='SATISFACTION_SCORE', hue='FLEXIBLE_POLICY', data=df)\n",
    "#plt.show();\n",
    "\n",
    "#Room type:\n",
    "#sns.scatterplot(x='ROOM_TYPE', y='SATISFACTION_SCORE', hue='FLEXIBLE_POLICY', data=df)\n",
    "#plt.show();\n",
    "\n",
    "#Hotel room category:\n",
    "#sns.scatterplot(x='HOTEL_ROOM_CATEGORY', y='SATISFACTION_SCORE', hue='FLEXIBLE_POLICY', data=df)\n",
    "#plt.show();\n",
    "\n",
    "#Total spend:\n",
    "sns.scatterplot(x='TOTAL_SPEND', y='SATISFACTION_SCORE', hue='FLEXIBLE_POLICY', data=df)\n",
    "plt.show();"
   ]
  },
  {
   "cell_type": "markdown",
   "id": "914fbd24-5977-4170-b7db-864f25307c89",
   "metadata": {},
   "source": [
    "None of the columns seem to have an obvious correlation with Satisfaction. \n",
    "In fact, column Hotel Room Category can be dropped, since little value can be derived from this column."
   ]
  },
  {
   "cell_type": "code",
   "execution_count": 6,
   "id": "d6d1d040-0d27-4b5b-9e52-b79f3c0fa4d8",
   "metadata": {},
   "outputs": [
    {
     "data": {
      "text/html": [
       "<div>\n",
       "<style scoped>\n",
       "    .dataframe tbody tr th:only-of-type {\n",
       "        vertical-align: middle;\n",
       "    }\n",
       "\n",
       "    .dataframe tbody tr th {\n",
       "        vertical-align: top;\n",
       "    }\n",
       "\n",
       "    .dataframe thead th {\n",
       "        text-align: right;\n",
       "    }\n",
       "</style>\n",
       "<table border=\"1\" class=\"dataframe\">\n",
       "  <thead>\n",
       "    <tr style=\"text-align: right;\">\n",
       "      <th></th>\n",
       "      <th>BOOKING_PROCESS_ID</th>\n",
       "      <th>STAY_DURATION</th>\n",
       "      <th>TRIP_TYPE</th>\n",
       "      <th>LEAD_TIME</th>\n",
       "      <th>TOTAL_SPEND</th>\n",
       "      <th>ROOM_TYPE</th>\n",
       "      <th>SATISFACTION_SCORE</th>\n",
       "      <th>FLEXIBLE_POLICY</th>\n",
       "    </tr>\n",
       "  </thead>\n",
       "  <tbody>\n",
       "    <tr>\n",
       "      <th>count</th>\n",
       "      <td>9.831140e+05</td>\n",
       "      <td>983114.000000</td>\n",
       "      <td>983114.000000</td>\n",
       "      <td>983114.000000</td>\n",
       "      <td>983114.000000</td>\n",
       "      <td>983114.000000</td>\n",
       "      <td>983114.000000</td>\n",
       "      <td>983114.000000</td>\n",
       "    </tr>\n",
       "    <tr>\n",
       "      <th>mean</th>\n",
       "      <td>1.561204e+08</td>\n",
       "      <td>2.101963</td>\n",
       "      <td>0.271501</td>\n",
       "      <td>25.325280</td>\n",
       "      <td>223.672006</td>\n",
       "      <td>1.384636</td>\n",
       "      <td>8.206369</td>\n",
       "      <td>0.032174</td>\n",
       "    </tr>\n",
       "    <tr>\n",
       "      <th>std</th>\n",
       "      <td>1.198902e+07</td>\n",
       "      <td>2.348751</td>\n",
       "      <td>0.482617</td>\n",
       "      <td>43.390808</td>\n",
       "      <td>315.192566</td>\n",
       "      <td>0.491094</td>\n",
       "      <td>1.594612</td>\n",
       "      <td>0.176463</td>\n",
       "    </tr>\n",
       "    <tr>\n",
       "      <th>min</th>\n",
       "      <td>1.369028e+08</td>\n",
       "      <td>1.000000</td>\n",
       "      <td>0.000000</td>\n",
       "      <td>-1.000000</td>\n",
       "      <td>0.000000</td>\n",
       "      <td>1.000000</td>\n",
       "      <td>0.000000</td>\n",
       "      <td>0.000000</td>\n",
       "    </tr>\n",
       "    <tr>\n",
       "      <th>25%</th>\n",
       "      <td>1.459230e+08</td>\n",
       "      <td>1.000000</td>\n",
       "      <td>0.000000</td>\n",
       "      <td>3.000000</td>\n",
       "      <td>85.100000</td>\n",
       "      <td>1.000000</td>\n",
       "      <td>7.636364</td>\n",
       "      <td>0.000000</td>\n",
       "    </tr>\n",
       "    <tr>\n",
       "      <th>50%</th>\n",
       "      <td>1.542075e+08</td>\n",
       "      <td>1.000000</td>\n",
       "      <td>0.000000</td>\n",
       "      <td>9.000000</td>\n",
       "      <td>132.000000</td>\n",
       "      <td>1.000000</td>\n",
       "      <td>8.600000</td>\n",
       "      <td>0.000000</td>\n",
       "    </tr>\n",
       "    <tr>\n",
       "      <th>75%</th>\n",
       "      <td>1.670293e+08</td>\n",
       "      <td>2.000000</td>\n",
       "      <td>1.000000</td>\n",
       "      <td>28.000000</td>\n",
       "      <td>256.500000</td>\n",
       "      <td>2.000000</td>\n",
       "      <td>9.300000</td>\n",
       "      <td>0.000000</td>\n",
       "    </tr>\n",
       "    <tr>\n",
       "      <th>max</th>\n",
       "      <td>1.795545e+08</td>\n",
       "      <td>99.000000</td>\n",
       "      <td>2.000000</td>\n",
       "      <td>1168.000000</td>\n",
       "      <td>64000.000000</td>\n",
       "      <td>4.000000</td>\n",
       "      <td>10.000000</td>\n",
       "      <td>1.000000</td>\n",
       "    </tr>\n",
       "  </tbody>\n",
       "</table>\n",
       "</div>"
      ],
      "text/plain": [
       "       BOOKING_PROCESS_ID  STAY_DURATION      TRIP_TYPE      LEAD_TIME  \\\n",
       "count        9.831140e+05  983114.000000  983114.000000  983114.000000   \n",
       "mean         1.561204e+08       2.101963       0.271501      25.325280   \n",
       "std          1.198902e+07       2.348751       0.482617      43.390808   \n",
       "min          1.369028e+08       1.000000       0.000000      -1.000000   \n",
       "25%          1.459230e+08       1.000000       0.000000       3.000000   \n",
       "50%          1.542075e+08       1.000000       0.000000       9.000000   \n",
       "75%          1.670293e+08       2.000000       1.000000      28.000000   \n",
       "max          1.795545e+08      99.000000       2.000000    1168.000000   \n",
       "\n",
       "         TOTAL_SPEND      ROOM_TYPE  SATISFACTION_SCORE  FLEXIBLE_POLICY  \n",
       "count  983114.000000  983114.000000       983114.000000    983114.000000  \n",
       "mean      223.672006       1.384636            8.206369         0.032174  \n",
       "std       315.192566       0.491094            1.594612         0.176463  \n",
       "min         0.000000       1.000000            0.000000         0.000000  \n",
       "25%        85.100000       1.000000            7.636364         0.000000  \n",
       "50%       132.000000       1.000000            8.600000         0.000000  \n",
       "75%       256.500000       2.000000            9.300000         0.000000  \n",
       "max     64000.000000       4.000000           10.000000         1.000000  "
      ]
     },
     "execution_count": 6,
     "metadata": {},
     "output_type": "execute_result"
    }
   ],
   "source": [
    "df = df.drop('HOTEL_ROOM_CATEGORY', axis=1)\n",
    "\n",
    "df.describe()"
   ]
  },
  {
   "cell_type": "markdown",
   "id": "efbf1f42-8990-4058-ad6a-5345e7d43bb3",
   "metadata": {},
   "source": [
    "###### BUILDING PROPENSITY MODELS"
   ]
  },
  {
   "cell_type": "markdown",
   "id": "373777c4-892c-41a6-942f-e20478e74e3f",
   "metadata": {},
   "source": [
    "#### METHOD 1: Propensity Score Matching (PSM)\n",
    "PSM matches customers with similar likelihoods of choosing a flexible policy and compares their satisfaction scores."
   ]
  },
  {
   "cell_type": "code",
   "execution_count": 7,
   "id": "9a9b723e-0ec0-4f12-8f9a-8d8d803510f4",
   "metadata": {},
   "outputs": [
    {
     "name": "stdout",
     "output_type": "stream",
     "text": [
      "Estimated treatment effect (PSM): 0.33787580892320823\n"
     ]
    }
   ],
   "source": [
    "from sklearn.linear_model import LogisticRegression\n",
    "from sklearn.neighbors import NearestNeighbors\n",
    "from sklearn.metrics import pairwise_distances\n",
    "\n",
    "\n",
    "### Treatment and outcome\n",
    "X = df[['STAY_DURATION', 'TRIP_TYPE', 'TOTAL_SPEND', 'ROOM_TYPE']]  # Covariates\n",
    "y = df['FLEXIBLE_POLICY']  # Treatment\n",
    "outcome = df['SATISFACTION_SCORE']\n",
    "# X: These are covariates — the characteristics that might influence both the treatment (choosing flexible policy) and the outcome (satisfaction).\n",
    "# y: This is the treatment variable — whether the customer chose a flexible policy (1) or not (0).\n",
    "# outcome: This is what we want to measure the impact on — customer satisfaction.\n",
    "\n",
    "### One-hot encode categorical variables\n",
    "X = pd.get_dummies(X, drop_first=True)\n",
    "# Some columns (like TRIP_TYPE) may be categorical, so we convert them into numerical “dummy” variables — e.g., Business or Leisure turns into 0 and 1.\n",
    "# drop_first=True avoids dummy variable trap (multicollinearity) by dropping one category. Dummy variable trap occurs when one variable can be \n",
    "# predicted from the others, making it difficult to interpret predicted coefficient variables in regression models\n",
    "\n",
    "### Fit logistic regression to estimate propensity scores\n",
    "lr = LogisticRegression()\n",
    "lr.fit(X, y)\n",
    "df['PROPENSITY_SCORE'] = lr.predict_proba(X)[:, 1]\n",
    "# We’re building a logistic regression model to predict the probability of choosing the flexible policy (y) based on the customer’s characteristics (X).\n",
    "# predict_proba(X)[:, 1] gives the probability of being in the flexible policy group (1) — this is the propensity score.\n",
    "# We save this score in a new column PROPENSITY_SCORE in the dataframe.\n",
    "\n",
    "### Match on propensity scores\n",
    "treated = df[df['FLEXIBLE_POLICY'] == 1]\n",
    "control = df[df['FLEXIBLE_POLICY'] == 0]\n",
    "# treated: All customers who chose flexible policy (1).\n",
    "# control: All customers who didn’t choose flexible policy (0).\n",
    "\n",
    "### Nearest neighbor matching\n",
    "nn = NearestNeighbors(n_neighbors=1)\n",
    "nn.fit(control[['PROPENSITY_SCORE']])\n",
    "distances, indices = nn.kneighbors(treated[['PROPENSITY_SCORE']])\n",
    "# NearestNeighbors(n_neighbors=1): This tells the model to find the single closest match (1 nearest neighbor) for each treated customer.\n",
    "# fit(control[['PROPENSITY_SCORE']]): We’re telling the model to look for matches from the control group based on their propensity scores.\n",
    "# kneighbors() finds the closest control customer for each treated customer based on their propensity score.\n",
    "# distances: How far apart the scores are between the treated customer and their matched control.\n",
    "# indices: The row numbers of the control group customers that were matched.\n",
    "\n",
    "### Matched control group\n",
    "matched_control = control.iloc[indices.flatten()].reset_index(drop=True)\n",
    "matched_treated = treated.reset_index(drop=True)\n",
    "# matched_control: The control customers who were matched to treated customers.\n",
    "# matched_treated: The treated customers, aligned to their matched control group.\n",
    "# Now we have paired similar customers based on their likelihood of choosing the flexible policy — so the only major difference between them \n",
    "# should be whether they actually chose the flexible policy. This makes it easier to isolate the impact of the policy on satisfaction.\n",
    "## Note: more details on the code breakdown below\n",
    "\n",
    "### Estimate treatment effect\n",
    "treatment_effect = (matched_treated['SATISFACTION_SCORE'] - matched_control['SATISFACTION_SCORE']).mean()\n",
    "print(f\"Estimated treatment effect (PSM): {treatment_effect}\")\n"
   ]
  },
  {
   "cell_type": "markdown",
   "id": "274f4135-96fa-4fb4-af02-35ac1a456388",
   "metadata": {},
   "source": [
    "A treatment effect of 0.34 means that, on average, customers who were given a flexible cancellation policy experienced an increase of 0.34 units in satisfaction compared to similarly matched customers who did not have this option."
   ]
  },
  {
   "cell_type": "markdown",
   "id": "fc153e87-4d86-45ad-be6d-5e5c3e46accb",
   "metadata": {},
   "source": [
    "Code breakdown:\n",
    "\"matched_control = control.iloc[indices.flatten()].reset_index(drop=True)\"\n",
    "\n",
    "1. indices: the output of the kneighbors() function.\n",
    "It’s a 2D array — like [[5], [12], [8]] — where each row shows the index of the nearest neighbor from the control group for each treated customer.\n",
    "2. indices.flatten():\n",
    "flatten() turns that 2D array into a 1D list — like [5, 12, 8].\n",
    "This gives us a simple list of row numbers (indices) of the matched control group customers.\n",
    "3. control.iloc[indices.flatten()]:\n",
    "iloc[] is pandas’ index-based selection method.\n",
    "It uses the list of row numbers from indices.flatten() to select those specific rows from the control group dataframe (control).\n",
    "So, this pulls out the matched control customers who are the closest propensity score neighbors of the treated customers.\n",
    "4. reset_index(drop=True):\n",
    "After selecting the rows, the original row numbers from control remain.\n",
    "reset_index(drop=True) removes those and resets the row numbers to start from 0, so the treated and control groups line up neatly."
   ]
  },
  {
   "cell_type": "markdown",
   "id": "956b11c2-9bcb-4f2b-9f30-679e59eede89",
   "metadata": {},
   "source": [
    "## 1. Covariate balance check — using Standardized Mean Differences:\n",
    "This is crucial because it tells you whether the treated group (flexible policy) and control group (non-flexible policy) are actually comparable after matching."
   ]
  },
  {
   "cell_type": "code",
   "execution_count": 8,
   "id": "42062ce3-c288-4c63-9cc7-c8c639c865ff",
   "metadata": {},
   "outputs": [
    {
     "name": "stdout",
     "output_type": "stream",
     "text": [
      "STAY_DURATION SMD after matching: 0.006\n",
      "TRIP_TYPE SMD after matching: 0.031\n",
      "TOTAL_SPEND SMD after matching: 0.007\n",
      "ROOM_TYPE SMD after matching: 0.013\n"
     ]
    }
   ],
   "source": [
    "def standardized_mean_diff(var, treated, control):\n",
    "    return abs(treated[var].mean() - control[var].mean()) / np.sqrt(0.5 * (treated[var].var() + control[var].var()))\n",
    "\n",
    "covariates = ['STAY_DURATION', 'TRIP_TYPE', 'TOTAL_SPEND', 'ROOM_TYPE']\n",
    "\n",
    "for var in covariates:\n",
    "    smd = standardized_mean_diff(var, matched_treated, matched_control)\n",
    "    print(f\"{var} SMD after matching: {smd:.3f}\")"
   ]
  },
  {
   "cell_type": "markdown",
   "id": "3a4ca700-9321-4441-9aa2-f551d5cef3fd",
   "metadata": {},
   "source": [
    "Interpretation of covariate balance check:\n",
    "SMD < 0.1 → Good balance: The treated and control groups are very similar on this covariate.\n",
    "0.1 ≤ SMD < 0.25 → Acceptable balance: There’s some difference, but it’s still reasonable.\n",
    "SMD ≥ 0.25 → Poor balance: The groups differ a lot on this covariate — suggesting the matching didn’t work well for this variable.\n",
    "\n",
    "The closer to 0, the better the balance — and the more confident we can be that any difference in Satisfaction is due to the Flexible Policy and not confounding variables. On the other hand, if some variables are imbalanced, our treatment effect estimate might be biased.\n",
    "\n",
    "On all 4 covariates, the treated group and control group are comparable after matching."
   ]
  },
  {
   "cell_type": "markdown",
   "id": "6c52a7ea-c05a-4162-8365-784506200367",
   "metadata": {},
   "source": [
    "## 2. Propensity score overlap check"
   ]
  },
  {
   "cell_type": "code",
   "execution_count": 9,
   "id": "6a503e96-f630-4781-a404-c6b5231f598a",
   "metadata": {},
   "outputs": [
    {
     "data": {
      "image/png": "[encoded data removed]",
      "text/plain": [
       "<Figure size 640x480 with 1 Axes>"
      ]
     },
     "metadata": {},
     "output_type": "display_data"
    }
   ],
   "source": [
    "sns.kdeplot(df[df['FLEXIBLE_POLICY'] == 1]['PROPENSITY_SCORE'], label='Flexible Policy', fill=True)\n",
    "sns.kdeplot(df[df['FLEXIBLE_POLICY'] == 0]['PROPENSITY_SCORE'], label='Non-Flexible Policy', fill=True)\n",
    "plt.legend()\n",
    "plt.title('Propensity Score Distribution')\n",
    "plt.show()"
   ]
  },
  {
   "cell_type": "markdown",
   "id": "c4509c56-db8d-436b-a672-5faf6058ba27",
   "metadata": {},
   "source": [
    "As we can see, the two curves overlap completely where possible.\n",
    "Meaning: Treated and control groups have many similar customers with similar probabilities of choosing the flexible policy.\n",
    "Why this is good: Matching works best when there’s enough overlap — you’re comparing apples to apples."
   ]
  },
  {
   "cell_type": "markdown",
   "id": "2d0325b1-2773-4b88-9d85-fd9bb47a8190",
   "metadata": {},
   "source": [
    "## 3. Statistical significance test"
   ]
  },
  {
   "cell_type": "code",
   "execution_count": 10,
   "id": "44d08ce8-ca56-4fd1-aef1-88a9434eca6d",
   "metadata": {},
   "outputs": [
    {
     "name": "stdout",
     "output_type": "stream",
     "text": [
      "T-statistic: 23.479849426344106, P-value: 2.1726098484381893e-121\n"
     ]
    }
   ],
   "source": [
    "from scipy.stats import ttest_ind\n",
    "\n",
    "t_stat, p_value = ttest_ind(matched_treated['SATISFACTION_SCORE'], matched_control['SATISFACTION_SCORE'])\n",
    "print(f\"T-statistic: {t_stat}, P-value: {p_value}\")"
   ]
  },
  {
   "cell_type": "markdown",
   "id": "ec0ef3a9-e5ce-4bca-8164-3e7f4a6a3abe",
   "metadata": {},
   "source": [
    "A high T-statistic and low p-value means that the result is statistically significant, very low chance that the result is due to random noise."
   ]
  },
  {
   "cell_type": "markdown",
   "id": "68b53f74-2968-4224-acab-fc0bef5ef881",
   "metadata": {},
   "source": [
    "#### METHOD 2: Inverse Probability Weighting\n",
    "IPW adjusts for selection bias by weighting observations based on their propensity scores.\n",
    "We want to know: \"Does flexible cancellation improve customer satisfaction?\" But we can’t just compare customers who chose flexible vs. non-flexible policies because they’re different kinds of customers — they may have different budgets, stay lengths, or booking lead times.\n",
    "\n",
    "IPW helps us fix this imbalance by weighting customers so the two groups become more comparable.\n",
    "\n",
    "How does IPW work?\n",
    "\n",
    "Propensity score: First, we predict how likely each customer is to choose the flexible policy based on their characteristics (like stay duration, lead time, and total spend). This probability is called the propensity score.\n",
    "Weights: Then we use the propensity score to adjust the importance of each customer:\n",
    "    - Customers who chose flexible policy but weren’t very likely to get a higher weight — they’re special cases and more informative.\n",
    "    - Customers who chose flexible policy and were very likely to get a lower weight — they’re not surprising, so they matter less.\n",
    "This helps balance the two groups, so any difference in satisfaction is more likely due to the policy, not other factors."
   ]
  },
  {
   "cell_type": "code",
   "execution_count": 11,
   "id": "77d8322b-fa8c-413f-89fd-46370b8027c9",
   "metadata": {},
   "outputs": [
    {
     "name": "stdout",
     "output_type": "stream",
     "text": [
      "Estimated treatment effect using IPW: 0.10460254150240722\n"
     ]
    }
   ],
   "source": [
    "# Step 1: Calculate weights\n",
    "# If a customer chose the flexible policy, their weight is 1 / their propensity score.\n",
    "# If they chose the non-flexible policy, their weight is 1 / (1 - their propensity score).\n",
    "df['ipw'] = np.where(df['FLEXIBLE_POLICY'] == 1, \n",
    "                     1 / df['PROPENSITY_SCORE'], \n",
    "                     1 / (1 - df['PROPENSITY_SCORE']))\n",
    "\n",
    "# Step 2: Estimate treatment effect using weighted means\n",
    "# Weighted mean satisfaction score for those with flexible policy\n",
    "weighted_flexible = np.average(df[df['FLEXIBLE_POLICY'] == 1]['SATISFACTION_SCORE'], \n",
    "                               weights=df[df['FLEXIBLE_POLICY'] == 1]['ipw'])\n",
    "\n",
    "# Weighted mean satisfaction score for those with non-flexible policy\n",
    "weighted_non_flexible = np.average(df[df['FLEXIBLE_POLICY'] == 0]['SATISFACTION_SCORE'], \n",
    "                                   weights=df[df['FLEXIBLE_POLICY'] == 0]['ipw'])\n",
    "\n",
    "# Step 3: Calculate the treatment effect\n",
    "# Difference between the weighted averages of the two groups\n",
    "treatment_effect_ipw = weighted_flexible - weighted_non_flexible\n",
    "print(f\"Estimated treatment effect using IPW: {treatment_effect_ipw}\")"
   ]
  },
  {
   "cell_type": "markdown",
   "id": "1e7212a8-79cc-432c-8d7d-ba40ce1ca6dc",
   "metadata": {},
   "source": [
    "The value 0.1 suggests that offering a flexible cancellation policy has a positive effect on customer satisfaction. On average, customers who were subject to the flexible cancellation policy reported a 0.1 unit improvement in their satisfaction compared to what their satisfaction would have been if they did not have access to such a policy."
   ]
  },
  {
   "cell_type": "markdown",
   "id": "c0b43163-580a-45f4-9067-1d2ec015553a",
   "metadata": {},
   "source": [
    "## 1. ROC-AUC Diagnostics"
   ]
  },
  {
   "cell_type": "code",
   "execution_count": 12,
   "id": "d2d61286-5349-402a-9c70-bad49425683f",
   "metadata": {},
   "outputs": [
    {
     "name": "stdout",
     "output_type": "stream",
     "text": [
      "Propensity model ROC-AUC: 0.894\n"
     ]
    }
   ],
   "source": [
    "# 3. Propensity score model diagnostics\n",
    "from sklearn.metrics import roc_auc_score\n",
    "\n",
    "roc_auc = roc_auc_score(df['FLEXIBLE_POLICY'], df['PROPENSITY_SCORE'])\n",
    "print(f\"Propensity model ROC-AUC: {roc_auc:.3f}\")\n"
   ]
  },
  {
   "cell_type": "markdown",
   "id": "0b45c472-a98f-4503-906f-d1aabe995e6e",
   "metadata": {},
   "source": [
    "In the context of IPW, we want AUC to be good — but not too good.\n",
    "Why? Because the goal of the propensity score model is to balance the groups, not perfectly predict who chose the flexible policy.\n",
    "A very high AUC (close to 1.0) means the groups are very different — which can lead to poor overlap and extrapolation.\n",
    "A moderate AUC (0.7–0.85) is often ideal, suggesting the model captures differences well without over-separating the groups.\n",
    "Our number is approaching >0.9, but the propensity score overlap graph above suggests we have a good overlap.\n",
    "Therefore, the ROC-AUC check is good."
   ]
  },
  {
   "cell_type": "markdown",
   "id": "49a861c7-3d26-4b1e-b5a2-669c4c7a36ee",
   "metadata": {},
   "source": [
    "## 2. Check stabilized weights\n",
    "Because unstable weights = unstable estimates, when some weights are too large or too small, they can distort the treatment effect and increase variance. Checking stabilized weights helps ensure the results are reliable."
   ]
  },
  {
   "cell_type": "code",
   "execution_count": 13,
   "id": "00d28dad-1cab-4a93-bf88-8fe1a9cce721",
   "metadata": {},
   "outputs": [
    {
     "data": {
      "image/png": "[encoded data removed]",
      "text/plain": [
       "<Figure size 800x600 with 1 Axes>"
      ]
     },
     "metadata": {},
     "output_type": "display_data"
    },
    {
     "name": "stdout",
     "output_type": "stream",
     "text": [
      "count    983114.000000\n",
      "mean          0.984952\n",
      "std           0.157422\n",
      "min           0.033156\n",
      "25%           0.971578\n",
      "50%           0.979560\n",
      "75%           0.981488\n",
      "max          32.673630\n",
      "Name: stabilized_weight, dtype: float64\n"
     ]
    }
   ],
   "source": [
    "# Step 2.1: Calculate stabilized weights\n",
    "p_treatment = df['FLEXIBLE_POLICY'].mean()\n",
    "df['stabilized_weight'] = np.where(df['FLEXIBLE_POLICY'] == 1,\n",
    "                                  p_treatment / df['PROPENSITY_SCORE'],\n",
    "                                  (1 - p_treatment) / (1 - df['PROPENSITY_SCORE']))\n",
    "\n",
    "# Step 2.2: Check stabilized weight distribution\n",
    "plt.figure(figsize=(8, 6))\n",
    "plt.hist(df['stabilized_weight'], bins=30, edgecolor='k')\n",
    "plt.title('Distribution of Stabilized Weights')\n",
    "plt.xlabel('Stabilized Weight')\n",
    "plt.ylabel('Frequency')\n",
    "plt.show()\n",
    "\n",
    "# Step 2.3: Summary statistics for stabilized weights\n",
    "print(df['stabilized_weight'].describe())"
   ]
  },
  {
   "cell_type": "markdown",
   "id": "db0aa59b-26bd-4ffd-9408-7d9c5149b75b",
   "metadata": {},
   "source": [
    "Mean weights are close to 1 (generally good if between 0.5 and 2). This means the model is balancing the groups without overemphasizing any single observation."
   ]
  },
  {
   "cell_type": "markdown",
   "id": "701ed779-5613-4647-9a86-dbf970c77a45",
   "metadata": {},
   "source": [
    "**Overall, having a flexible cancellation policy does have a positive increase on the satisfaction score, compared to what the score would have been if bookings did not have access to such policy**\n",
    "- Using Propensity Score Matching method, we arrive at +0.34 satisfaction score for having such a policy\n",
    "- Using Inverse Probability Weighting, we have +0.1 satisfaction score for having such a policy\n",
    "However, the impact, despite being positive, might be neglectable to the travel managers. The question now becomes, 'Is this positive impact worth the cost of having the policy?\""
   ]
  }
 ],
 "metadata": {
  "kernelspec": {
   "display_name": "Python 3 (ipykernel)",
   "language": "python",
   "name": "python3"
  },
  "language_info": {
   "codemirror_mode": {
    "name": "ipython",
    "version": 3
   },
   "file_extension": ".py",
   "mimetype": "text/x-python",
   "name": "python",
   "nbconvert_exporter": "python",
   "pygments_lexer": "ipython3",
   "version": "3.12.7"
  }
 },
 "nbformat": 4,
 "nbformat_minor": 5
}
